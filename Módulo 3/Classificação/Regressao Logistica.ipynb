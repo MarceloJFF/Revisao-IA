{
 "cells": [
  {
   "cell_type": "code",
   "execution_count": 5,
   "id": "254a5ff1",
   "metadata": {},
   "outputs": [],
   "source": [
    "#importing \n",
    "import numpy as np\n",
    "import pandas as pd\n",
    "from sklearn import datasets\n",
    "from sklearn.model_selection import train_test_split\n",
    "from sklearn.metrics import confusion_matrix\n",
    "import seaborn as sns\n",
    "import matplotlib.pyplot as plt\n",
    "from sklearn.linear_model import LogisticRegression\n",
    "from sklearn.metrics import (\n",
    "    accuracy_score,\n",
    "    confusion_matrix,\n",
    "    ConfusionMatrixDisplay,\n",
    "    f1_score,\n",
    "    classification_report,\n",
    ")\n",
    "\n"
   ]
  },
  {
   "cell_type": "code",
   "execution_count": 7,
   "id": "735de099",
   "metadata": {},
   "outputs": [
    {
     "name": "stdout",
     "output_type": "stream",
     "text": [
      "<class 'pandas.core.frame.DataFrame'>\n",
      "RangeIndex: 4424 entries, 0 to 4423\n",
      "Data columns (total 37 columns):\n",
      " #   Column                                          Non-Null Count  Dtype   \n",
      "---  ------                                          --------------  -----   \n",
      " 0   Marital status                                  4424 non-null   int64   \n",
      " 1   Application mode                                4424 non-null   int64   \n",
      " 2   Application order                               4424 non-null   int64   \n",
      " 3   Course                                          4424 non-null   int64   \n",
      " 4   Daytime/evening attendance\t                     4424 non-null   int64   \n",
      " 5   Previous qualification                          4424 non-null   int64   \n",
      " 6   Previous qualification (grade)                  4424 non-null   float64 \n",
      " 7   Nacionality                                     4424 non-null   int64   \n",
      " 8   Mother's qualification                          4424 non-null   int64   \n",
      " 9   Father's qualification                          4424 non-null   int64   \n",
      " 10  Mother's occupation                             4424 non-null   int64   \n",
      " 11  Father's occupation                             4424 non-null   int64   \n",
      " 12  Admission grade                                 4424 non-null   float64 \n",
      " 13  Displaced                                       4424 non-null   int64   \n",
      " 14  Educational special needs                       4424 non-null   int64   \n",
      " 15  Debtor                                          4424 non-null   int64   \n",
      " 16  Tuition fees up to date                         4424 non-null   int64   \n",
      " 17  Gender                                          4424 non-null   int64   \n",
      " 18  Scholarship holder                              4424 non-null   int64   \n",
      " 19  Age at enrollment                               4424 non-null   int64   \n",
      " 20  International                                   4424 non-null   int64   \n",
      " 21  Curricular units 1st sem (credited)             4424 non-null   int64   \n",
      " 22  Curricular units 1st sem (enrolled)             4424 non-null   int64   \n",
      " 23  Curricular units 1st sem (evaluations)          4424 non-null   int64   \n",
      " 24  Curricular units 1st sem (approved)             4424 non-null   int64   \n",
      " 25  Curricular units 1st sem (grade)                4424 non-null   float64 \n",
      " 26  Curricular units 1st sem (without evaluations)  4424 non-null   int64   \n",
      " 27  Curricular units 2nd sem (credited)             4424 non-null   int64   \n",
      " 28  Curricular units 2nd sem (enrolled)             4424 non-null   int64   \n",
      " 29  Curricular units 2nd sem (evaluations)          4424 non-null   int64   \n",
      " 30  Curricular units 2nd sem (approved)             4424 non-null   int64   \n",
      " 31  Curricular units 2nd sem (grade)                4424 non-null   float64 \n",
      " 32  Curricular units 2nd sem (without evaluations)  4424 non-null   int64   \n",
      " 33  Unemployment rate                               4424 non-null   float64 \n",
      " 34  Inflation rate                                  4424 non-null   float64 \n",
      " 35  GDP                                             4424 non-null   float64 \n",
      " 36  Target                                          4424 non-null   category\n",
      "dtypes: category(1), float64(7), int64(29)\n",
      "memory usage: 1.2 MB\n"
     ]
    }
   ],
   "source": [
    "df = pd.read_csv(\"data.csv\",sep=\";\")\n",
    "\n",
    "df['Target'] = pd.Categorical(df['Target'])\n",
    "\n",
    "df.info()\n"
   ]
  },
  {
   "cell_type": "code",
   "execution_count": null,
   "id": "0753fbb4",
   "metadata": {},
   "outputs": [],
   "source": [
    "from sklearn.decomposition import PCA"
   ]
  },
  {
   "cell_type": "code",
   "execution_count": null,
   "id": "68d3dab7",
   "metadata": {},
   "outputs": [],
   "source": []
  },
  {
   "cell_type": "code",
   "execution_count": 61,
   "id": "87111291",
   "metadata": {},
   "outputs": [],
   "source": [
    "y = df[\"Target\"]\n",
    "X = df.loc[:,\"Marital status\":\"GDP\"]"
   ]
  },
  {
   "cell_type": "code",
   "execution_count": 62,
   "id": "983e3c5c",
   "metadata": {},
   "outputs": [],
   "source": [
    "x_train, x_test, y_train, y_test = train_test_split(X, y, test_size = 0.30)\n"
   ]
  },
  {
   "cell_type": "code",
   "execution_count": 63,
   "id": "ce2ec1b0",
   "metadata": {},
   "outputs": [],
   "source": [
    "from sklearn.preprocessing import StandardScaler\n",
    "\n",
    "scaler = StandardScaler()\n",
    "x_train_scaled = scaler.fit_transform(x_train)\n",
    "x_test_scaled = scaler.transform(x_test)"
   ]
  },
  {
   "cell_type": "code",
   "execution_count": 64,
   "id": "0c9ce0df",
   "metadata": {},
   "outputs": [],
   "source": [
    "\n",
    "#treinando o modelo\n",
    "\n",
    "\n",
    "\n",
    "lr_model = LogisticRegression(max_iter=1000).fit(x_train_scaled, y_train)"
   ]
  },
  {
   "cell_type": "code",
   "execution_count": 65,
   "id": "b38f8bc8",
   "metadata": {},
   "outputs": [
    {
     "name": "stdout",
     "output_type": "stream",
     "text": [
      "Acurácia:  0.7688253012048193\n",
      "F1 Score:  0.7812800431662639\n"
     ]
    },
    {
     "data": {
      "text/plain": [
       "['Marital status',\n",
       " 'Application mode',\n",
       " 'Application order',\n",
       " 'Course',\n",
       " 'Daytime/evening attendance\\t',\n",
       " 'Previous qualification',\n",
       " 'Previous qualification (grade)',\n",
       " 'Nacionality',\n",
       " \"Mother's qualification\",\n",
       " \"Father's qualification\",\n",
       " \"Mother's occupation\",\n",
       " \"Father's occupation\",\n",
       " 'Admission grade',\n",
       " 'Displaced',\n",
       " 'Educational special needs',\n",
       " 'Debtor',\n",
       " 'Tuition fees up to date',\n",
       " 'Gender',\n",
       " 'Scholarship holder',\n",
       " 'Age at enrollment',\n",
       " 'International',\n",
       " 'Curricular units 1st sem (credited)',\n",
       " 'Curricular units 1st sem (enrolled)',\n",
       " 'Curricular units 1st sem (evaluations)',\n",
       " 'Curricular units 1st sem (approved)',\n",
       " 'Curricular units 1st sem (grade)',\n",
       " 'Curricular units 1st sem (without evaluations)',\n",
       " 'Curricular units 2nd sem (credited)',\n",
       " 'Curricular units 2nd sem (enrolled)',\n",
       " 'Curricular units 2nd sem (evaluations)',\n",
       " 'Curricular units 2nd sem (approved)',\n",
       " 'Curricular units 2nd sem (grade)',\n",
       " 'Curricular units 2nd sem (without evaluations)',\n",
       " 'Unemployment rate',\n",
       " 'Inflation rate',\n",
       " 'GDP']"
      ]
     },
     "execution_count": 65,
     "metadata": {},
     "output_type": "execute_result"
    }
   ],
   "source": [
    "#predicao\n",
    "\n",
    "pred = lr_model.predict(x_test_scaled)\n",
    "\n",
    "accuracy = accuracy_score(pred, y_test)\n",
    "f1 = f1_score(pred, y_test, average = \"weighted\")\n",
    "\n",
    "print(\"Acurácia: \", accuracy)\n",
    "print(\"F1 Score: \", f1)\n",
    "nomes_das_colunas = df.columns.tolist()\n",
    "nomes_das_colunas.remove(\"Target\")\n",
    "nomes_das_colunas"
   ]
  },
  {
   "cell_type": "code",
   "execution_count": 66,
   "id": "9310f777",
   "metadata": {},
   "outputs": [],
   "source": [
    "cm = confusion_matrix(y_test, pred)\n",
    "#cm_df = pd.DataFrame(cm, index=nomes_das_colunas, columns=nomes_das_colunas)\n",
    "#cm_df = pd.DataFrame(cm)\n",
    "#sns.heatmap(cm_df, annot=True)"
   ]
  },
  {
   "cell_type": "code",
   "execution_count": null,
   "id": "15aecf12",
   "metadata": {},
   "outputs": [],
   "source": []
  },
  {
   "cell_type": "code",
   "execution_count": 67,
   "id": "739499fc",
   "metadata": {},
   "outputs": [
    {
     "data": {
      "text/plain": [
       "<AxesSubplot:>"
      ]
     },
     "execution_count": 67,
     "metadata": {},
     "output_type": "execute_result"
    },
    {
     "data": {
      "image/png": "[encoded data removed]",
      "text/plain": [
       "<Figure size 640x480 with 2 Axes>"
      ]
     },
     "metadata": {},
     "output_type": "display_data"
    }
   ],
   "source": [
    "\n",
    "\n",
    "# Obter as classes únicas do y_test para usar como rótulos no heatmap\n",
    "unique_classes = sorted(df[\"Target\"].unique())\n",
    "\n",
    "# Criar a matriz de confusão\n",
    "cm = confusion_matrix(y_test, pred)\n",
    "\n",
    "# Criar o DataFrame cm_df com os nomes das classes como rótulos\n",
    "cm_df = pd.DataFrame(cm, index=unique_classes, columns=unique_classes)\n",
    "\n",
    "# Criar o heatmap\n",
    "sns.heatmap(cm_df, annot=True, fmt='d')\n"
   ]
  },
  {
   "cell_type": "code",
   "execution_count": null,
   "id": "c0cc10ca",
   "metadata": {},
   "outputs": [],
   "source": []
  },
  {
   "cell_type": "code",
   "execution_count": null,
   "id": "3152ba60",
   "metadata": {},
   "outputs": [],
   "source": []
  }
 ],
 "metadata": {
  "kernelspec": {
   "display_name": "Python 3 (ipykernel)",
   "language": "python",
   "name": "python3"
  },
  "language_info": {
   "codemirror_mode": {
    "name": "ipython",
    "version": 3
   },
   "file_extension": ".py",
   "mimetype": "text/x-python",
   "name": "python",
   "nbconvert_exporter": "python",
   "pygments_lexer": "ipython3",
   "version": "3.9.13"
  }
 },
 "nbformat": 4,
 "nbformat_minor": 5
}
